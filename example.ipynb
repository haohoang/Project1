{
 "cells": [
  {
   "cell_type": "code",
   "execution_count": 12,
   "metadata": {},
   "outputs": [],
   "source": [
    "from nltk.tokenize import sent_tokenize\n",
    "import utils\n",
    "import multiprocessing\n",
    "from gensim.models import Word2Vec"
   ]
  },
  {
   "cell_type": "code",
   "execution_count": 13,
   "metadata": {},
   "outputs": [],
   "source": [
    "fname = \"need_clean_wiki_corpus/brown_nolines.txt\"\n",
    "with open(fname, 'r', encoding='utf_8') as f:\n",
    "    data = f.read()\n",
    "\n",
    "sentences = sent_tokenize(data)"
   ]
  },
  {
   "cell_type": "code",
   "execution_count": 14,
   "metadata": {},
   "outputs": [
    {
     "name": "stdout",
     "output_type": "stream",
     "text": [
      "['The Fulton County Grand Jury said Friday an investigation of Atlanta\\'s recent primary election produced \"no evidence\" that any irregularities took place.', 'The jury further said in term-end presentments that the City Executive Committee, which had over-all charge of the election, \"deserves the praise and thanks of the City of Atlanta\" for the manner in which the election was conducted.', 'The September-October term jury had been charged by Fulton Superior Court Judge Durwood Pye to investigate reports of possible \"irregularities\" in the hard-fought primary which was won by Mayor-nominate Ivan Allen Jr&.', '\"Only a relative handful of such reports was received\", the jury said, \"considering the widespread interest in the election, the number of voters and the size of this city\".', 'The jury said it did find that many of Georgia\\'s registration and election laws \"are outmoded or inadequate and often ambiguous\".', 'It recommended that Fulton legislators act \"to have these laws studied and revised to the end of modernizing and improving them\".', 'The grand jury commented on a number of other topics, among them the Atlanta and Fulton County purchasing departments which it said \"are well operated and follow generally accepted practices which inure to the best interest of both governments\".', '#MERGER PROPOSED#\\n\\nHowever, the jury said it believes \"these two offices should be combined to achieve greater efficiency and reduce the cost of administration\".', 'The City Purchasing Department, the jury said, \"is lacking in experienced clerical personnel as a result of city personnel policies\".', 'It urged that the city \"take steps to remedy\" this problem.']\n"
     ]
    }
   ],
   "source": [
    "print(sentences[:10])"
   ]
  },
  {
   "cell_type": "code",
   "execution_count": 15,
   "metadata": {},
   "outputs": [],
   "source": [
    "temp = sentences[:10]\n",
    "for i, sent in enumerate(temp):\n",
    "    sentences[i] = utils.clean_not_remain_tag(sent)"
   ]
  },
  {
   "cell_type": "code",
   "execution_count": 16,
   "metadata": {},
   "outputs": [
    {
     "name": "stdout",
     "output_type": "stream",
     "text": [
      "[['fulton', 'county', 'grand', 'jury', 'say', 'friday', 'investigation', 'atlanta', 'recent', 'primary', 'election', 'produce', 'evidence', 'irregularity', 'take', 'place'], ['jury', 'far', 'say', 'termend', 'presentment', 'city', 'executive', 'committee', 'overall', 'charge', 'election', 'deserve', 'praise', 'thanks', 'city', 'atlanta', 'manner', 'election', 'conduct'], ['septemberoctober', 'term', 'jury', 'charge', 'fulton', 'superior', 'court', 'judge', 'durwood', 'pye', 'investigate', 'report', 'possible', 'irregularity', 'hardfought', 'primary', 'win', 'mayornominate', 'ivan', 'allen'], ['relative', 'handful', 'report', 'receive', 'jury', 'say', 'consider', 'widespread', 'interest', 'election', 'number', 'voter', 'size', 'city'], ['jury', 'say', 'find', 'many', 'georgia', 'registration', 'election', 'law', 'outmode', 'inadequate', 'often', 'ambiguous'], ['recommend', 'fulton', 'legislator', 'act', 'law', 'study', 'revise', 'end', 'modernizing', 'improve'], ['grand', 'jury', 'comment', 'number', 'topic', 'among', 'atlanta', 'fulton', 'county', 'purchasing', 'department', 'say', 'well', 'operate', 'follow', 'generally', 'accept', 'practice', 'inure', 'best', 'interest', 'government'], ['merger', 'proposed', 'however', 'jury', 'say', 'believe', 'two', 'office', 'combine', 'achieve', 'great', 'efficiency', 'reduce', 'cost', 'administration'], ['city', 'purchasing', 'department', 'jury', 'say', 'lack', 'experienced', 'clerical', 'personnel', 'result', 'city', 'personnel', 'policy'], ['urge', 'city', 'take', 'step', 'remedy', 'problem']]\n"
     ]
    }
   ],
   "source": [
    "print(sentences[:10])"
   ]
  },
  {
   "cell_type": "code",
   "execution_count": 17,
   "metadata": {},
   "outputs": [],
   "source": [
    "cores = multiprocessing.cpu_count()"
   ]
  },
  {
   "cell_type": "code",
   "execution_count": 18,
   "metadata": {},
   "outputs": [],
   "source": [
    "min_count = 1\n",
    "window = 5\n",
    "size = 300\n",
    "sample = 1e-3\n",
    "alpha = 0.03\n",
    "min_alpha = 0.0007\n",
    "negative = 5\n",
    "hs = 0\n",
    "sg = 0"
   ]
  },
  {
   "cell_type": "code",
   "execution_count": 19,
   "metadata": {},
   "outputs": [],
   "source": [
    "w2v_model = Word2Vec(min_count=min_count,\n",
    "                     sg = sg,\n",
    "                     hs=hs,\n",
    "                     window=window,\n",
    "                     size=size,\n",
    "                     sample=sample,\n",
    "                     alpha=alpha,\n",
    "                     min_alpha=min_alpha,\n",
    "                     negative=negative,\n",
    "                     compute_loss=True,\n",
    "                     workers=cores-1)\n"
   ]
  },
  {
   "cell_type": "code",
   "execution_count": 20,
   "metadata": {},
   "outputs": [],
   "source": [
    "w2v_model.build_vocab(sentences=sentences[:10], progress_per=10000)"
   ]
  },
  {
   "cell_type": "code",
   "execution_count": 21,
   "metadata": {},
   "outputs": [
    {
     "data": {
      "text/plain": [
       "(633, 1470)"
      ]
     },
     "execution_count": 21,
     "metadata": {},
     "output_type": "execute_result"
    }
   ],
   "source": [
    "w2v_model.train(sentences[:10], total_examples=w2v_model.corpus_count, epochs=10, report_delay=1)"
   ]
  },
  {
   "cell_type": "code",
   "execution_count": 22,
   "metadata": {},
   "outputs": [
    {
     "name": "stdout",
     "output_type": "stream",
     "text": [
      "0.0\n"
     ]
    }
   ],
   "source": [
    "print(w2v_model.get_latest_training_loss())\n"
   ]
  },
  {
   "cell_type": "code",
   "execution_count": null,
   "metadata": {},
   "outputs": [],
   "source": []
  }
 ],
 "metadata": {
  "kernelspec": {
   "display_name": "Python 3",
   "language": "python",
   "name": "python3"
  }
 },
 "nbformat": 4,
 "nbformat_minor": 1
}
