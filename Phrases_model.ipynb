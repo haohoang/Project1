{
 "cells": [
  {
   "cell_type": "code",
   "execution_count": 1,
   "metadata": {},
   "outputs": [],
   "source": [
    "from gensim.models import Word2Vec\n",
    "import logging\n",
    "\n",
    "logging.basicConfig(level=logging.INFO)"
   ]
  },
  {
   "cell_type": "code",
   "execution_count": 6,
   "metadata": {},
   "outputs": [
    {
     "name": "stderr",
     "output_type": "stream",
     "text": [
      "INFO:gensim.utils:loading Word2Vec object from trained_model/phrases.model\n",
      "INFO:gensim.utils:loading wv recursively from trained_model/phrases.model.wv.* with mmap=None\n",
      "INFO:gensim.utils:loading vectors from trained_model/phrases.model.wv.vectors.npy with mmap=None\n",
      "INFO:gensim.utils:setting ignored attribute vectors_norm to None\n",
      "INFO:gensim.utils:loading vocabulary recursively from trained_model/phrases.model.vocabulary.* with mmap=None\n",
      "INFO:gensim.utils:loading trainables recursively from trained_model/phrases.model.trainables.* with mmap=None\n",
      "INFO:gensim.utils:loading syn1neg from trained_model/phrases.model.trainables.syn1neg.npy with mmap=None\n",
      "INFO:gensim.utils:setting ignored attribute cum_table to None\n",
      "INFO:gensim.utils:loaded trained_model/phrases.model\n",
      "INFO:gensim.utils:loading Word2Vec object from trained_model/POS_TAG_wiki_corpus.model\n",
      "INFO:gensim.utils:loading wv recursively from trained_model/POS_TAG_wiki_corpus.model.wv.* with mmap=None\n",
      "INFO:gensim.utils:loading vectors from trained_model/POS_TAG_wiki_corpus.model.wv.vectors.npy with mmap=None\n",
      "INFO:gensim.utils:setting ignored attribute vectors_norm to None\n",
      "INFO:gensim.utils:loading vocabulary recursively from trained_model/POS_TAG_wiki_corpus.model.vocabulary.* with mmap=None\n",
      "INFO:gensim.utils:loading trainables recursively from trained_model/POS_TAG_wiki_corpus.model.trainables.* with mmap=None\n",
      "INFO:gensim.utils:loading syn1neg from trained_model/POS_TAG_wiki_corpus.model.trainables.syn1neg.npy with mmap=None\n",
      "INFO:gensim.utils:setting ignored attribute cum_table to None\n",
      "INFO:gensim.utils:loaded trained_model/POS_TAG_wiki_corpus.model\n"
     ]
    }
   ],
   "source": [
    "model = Word2Vec.load('trained_model/phrases.model')\n",
    "pos_tag_model = Word2Vec.load('trained_model/POS_TAG_wiki_corpus.model')"
   ]
  },
  {
   "cell_type": "code",
   "execution_count": 45,
   "metadata": {},
   "outputs": [
    {
     "data": {
      "text/plain": [
       "[('los_angeles', 0.7319003343582153),\n",
       " ('san_diego', 0.707737147808075),\n",
       " ('seattle', 0.6972737312316895),\n",
       " ('miami', 0.65841144323349),\n",
       " ('chicago', 0.657082200050354),\n",
       " ('oakland', 0.6510159969329834),\n",
       " ('philadelphia', 0.6488163471221924),\n",
       " ('minneapolis', 0.6464691162109375),\n",
       " ('new_york', 0.6419083476066589),\n",
       " ('boston', 0.6366688013076782)]"
      ]
     },
     "execution_count": 45,
     "metadata": {},
     "output_type": "execute_result"
    }
   ],
   "source": [
    "model.wv.most_similar(\"san_francisco\")"
   ]
  },
  {
   "cell_type": "code",
   "execution_count": 2,
   "metadata": {},
   "outputs": [
    {
     "name": "stderr",
     "output_type": "stream",
     "text": [
      "INFO:gensim.utils:loading Word2Vec object from trained_model/clean_enwiki_11.model\n",
      "INFO:gensim.utils:loading wv recursively from trained_model/clean_enwiki_11.model.wv.* with mmap=None\n",
      "INFO:gensim.utils:loading vectors from trained_model/clean_enwiki_11.model.wv.vectors.npy with mmap=None\n",
      "INFO:gensim.utils:setting ignored attribute vectors_norm to None\n",
      "INFO:gensim.utils:loading vocabulary recursively from trained_model/clean_enwiki_11.model.vocabulary.* with mmap=None\n",
      "INFO:gensim.utils:loading trainables recursively from trained_model/clean_enwiki_11.model.trainables.* with mmap=None\n",
      "INFO:gensim.utils:loading syn1neg from trained_model/clean_enwiki_11.model.trainables.syn1neg.npy with mmap=None\n",
      "INFO:gensim.utils:setting ignored attribute cum_table to None\n",
      "INFO:gensim.utils:loaded trained_model/clean_enwiki_11.model\n"
     ]
    }
   ],
   "source": [
    "word2vec_model = Word2Vec.load('trained_model/clean_enwiki_11.model')\n"
   ]
  },
  {
   "cell_type": "code",
   "execution_count": 14,
   "metadata": {
    "scrolled": true
   },
   "outputs": [
    {
     "data": {
      "text/plain": [
       "[('prince', 0.6631728410720825),\n",
       " ('ruler', 0.6257941722869873),\n",
       " ('monarch', 0.6120851635932922),\n",
       " ('queen', 0.6077297329902649),\n",
       " ('throne', 0.6058080792427063),\n",
       " ('ã\\x86thelstan', 0.5935417413711548),\n",
       " ('pharaoh', 0.5594269037246704),\n",
       " ('vassal', 0.559334397315979),\n",
       " ('emperor', 0.5529524087905884),\n",
       " ('charlemagne', 0.5519390106201172)]"
      ]
     },
     "execution_count": 14,
     "metadata": {},
     "output_type": "execute_result"
    }
   ],
   "source": [
    "word2vec_model.wv.most_similar(\"king\")"
   ]
  },
  {
   "cell_type": "code",
   "execution_count": 9,
   "metadata": {},
   "outputs": [
    {
     "data": {
      "text/plain": [
       "0.3922702670097351"
      ]
     },
     "execution_count": 9,
     "metadata": {},
     "output_type": "execute_result"
    }
   ],
   "source": [
    "word2vec_model.wv.distance(\"king\", \"queen\")"
   ]
  },
  {
   "cell_type": "code",
   "execution_count": 19,
   "metadata": {},
   "outputs": [],
   "source": [
    "import pandas as pd\n",
    "import numpy as np\n",
    "import seaborn as sns\n",
    "sns.set_style(\"darkgrid\")\n",
    "import matplotlib.pyplot as plt\n",
    "%matplotlib inline\n",
    "\n",
    "from sklearn.decomposition import PCA\n",
    "from sklearn.manifold import TSNE"
   ]
  },
  {
   "cell_type": "code",
   "execution_count": 17,
   "metadata": {},
   "outputs": [],
   "source": [
    "def tsnescatterplot(model, word, list_names):\n",
    "    \"\"\" Plot in seaborn the results from the t-SNE dimensionality reduction algorithm of the vectors of a query word,\n",
    "    its list of most similar words, and a list of words.\n",
    "    \"\"\"\n",
    "    arrays = np.empty((0, 200), dtype='f')\n",
    "    word_labels = [word]\n",
    "    color_list  = ['red']\n",
    "\n",
    "    # adds the vector of the query word\n",
    "    arrays = np.append(arrays, model.wv.__getitem__([word]), axis=0)\n",
    "    \n",
    "    # gets list of most similar words\n",
    "    close_words = model.wv.most_similar([word])\n",
    "    \n",
    "    # adds the vector for each of the closest words to the array\n",
    "    for wrd_score in close_words:\n",
    "        wrd_vector = model.wv.__getitem__([wrd_score[0]])\n",
    "        word_labels.append(wrd_score[0])\n",
    "        color_list.append('blue')\n",
    "        arrays = np.append(arrays, wrd_vector, axis=0)\n",
    "    \n",
    "    # adds the vector for each of the words from list_names to the array\n",
    "    for wrd in list_names:\n",
    "        wrd_vector = model.wv.__getitem__([wrd])\n",
    "        word_labels.append(wrd)\n",
    "        color_list.append('green')\n",
    "        arrays = np.append(arrays, wrd_vector, axis=0)\n",
    "        \n",
    "    # Reduces the dimensionality from 300 to 50 dimensions with PCA\n",
    "    reduc = PCA(n_components=19).fit_transform(arrays)\n",
    "    \n",
    "    # Finds t-SNE coordinates for 2 dimensions\n",
    "    np.set_printoptions(suppress=True)\n",
    "    \n",
    "    Y = TSNE(n_components=2, random_state=0, perplexity=15).fit_transform(reduc)\n",
    "    \n",
    "    # Sets everything up to plot\n",
    "    df = pd.DataFrame({'x': [x for x in Y[:, 0]],\n",
    "                       'y': [y for y in Y[:, 1]],\n",
    "                       'words': word_labels,\n",
    "                       'color': color_list})\n",
    "    \n",
    "    fig, _ = plt.subplots()\n",
    "    fig.set_size_inches(9, 9)\n",
    "    \n",
    "    # Basic plot\n",
    "    p1 = sns.regplot(data=df,\n",
    "                     x=\"x\",\n",
    "                     y=\"y\",\n",
    "                     fit_reg=False,\n",
    "                     marker=\"o\",\n",
    "                     scatter_kws={'s': 40,\n",
    "                                  'facecolors': df['color']\n",
    "                                 }\n",
    "                    )\n",
    "    \n",
    "    # Adds annotations one by one with a loop\n",
    "    for line in range(0, df.shape[0]):\n",
    "         p1.text(df[\"x\"][line],\n",
    "                 df['y'][line],\n",
    "                 '  ' + df[\"words\"][line].title(),\n",
    "                 horizontalalignment='left',\n",
    "                 verticalalignment='bottom', size='medium',\n",
    "                 color=df['color'][line],\n",
    "                 weight='normal'\n",
    "                ).set_size(15)\n",
    "\n",
    "    \n",
    "    plt.xlim(Y[:, 0].min()-50, Y[:, 0].max()+50)\n",
    "    plt.ylim(Y[:, 1].min()-50, Y[:, 1].max()+50)\n",
    "            \n",
    "    plt.title('t-SNE visualization for {}'.format(word.title()))"
   ]
  },
  {
   "cell_type": "code",
   "execution_count": 23,
   "metadata": {},
   "outputs": [
    {
     "data": {
      "image/png": "[encoded data removed]",
      "text/plain": [
       "<Figure size 648x648 with 1 Axes>"
      ]
     },
     "metadata": {
      "needs_background": "light"
     },
     "output_type": "display_data"
    }
   ],
   "source": [
    "tsnescatterplot(word2vec_model, 'vietnam', ['hanoi', 'asia', 'country', 'war', 'france', 'america', 'gun', 'peace'])"
   ]
  },
  {
   "cell_type": "code",
   "execution_count": null,
   "metadata": {},
   "outputs": [],
   "source": []
  }
 ],
 "metadata": {
  "kernelspec": {
   "display_name": "Python 3",
   "language": "python",
   "name": "python3"
  },
  "language_info": {
   "codemirror_mode": {
    "name": "ipython",
    "version": 3
   },
   "file_extension": ".py",
   "mimetype": "text/x-python",
   "name": "python",
   "nbconvert_exporter": "python",
   "pygments_lexer": "ipython3",
   "version": "3.7.4"
  }
 },
 "nbformat": 4,
 "nbformat_minor": 2
}
